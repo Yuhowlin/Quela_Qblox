{
 "cells": [
  {
   "cell_type": "code",
   "execution_count": 1,
   "id": "1c1b930e",
   "metadata": {
    "tags": [
     "remove-cell"
    ]
   },
   "outputs": [],
   "source": [
    "\"\"\"Disable transparent backgrounds for analysis figures to make them look nicer\n",
    "in both dark and bright mode on the website.\"\"\"\n",
    "\n",
    "from quantify_core.analysis import base_analysis as ba\n",
    "\n",
    "ba.settings[\"mpl_transparent_background\"] = False"
   ]
  },
  {
   "cell_type": "code",
   "execution_count": 2,
   "id": "019cc26b",
   "metadata": {
    "tags": [
     "hide-cell"
    ]
   },
   "outputs": [
    {
     "name": "stdout",
     "output_type": "stream",
     "text": [
      "['q0', 'q1', 'q2', 'q3']\n"
     ]
    }
   ],
   "source": [
    "from qblox_instruments import Cluster, ClusterType\n",
    "import tempfile\n",
    "\n",
    "from quantify_core.data import handling as dh\n",
    "from quantify_core.measurement.control import MeasurementControl\n",
    "from quantify_scheduler.device_under_test.quantum_device import QuantumDevice\n",
    "from quantify_scheduler.device_under_test.transmon_element import BasicTransmonElement\n",
    "from quantify_scheduler.instrument_coordinator import InstrumentCoordinator\n",
    "from quantify_scheduler.instrument_coordinator.components.qblox import ClusterComponent\n",
    "\n",
    "measurement_control = MeasurementControl(\"measurement_control\")\n",
    "instrument_coordinator = InstrumentCoordinator(\"instrument_coordinator\")\n",
    "instrument_coordinator.timeout(60*60*120)\n",
    "# Create a temporary directory for this tutorial\n",
    "temp_dir = tempfile.mkdtemp()\n",
    "\n",
    "# First, don't forget to set the data directory!\n",
    "dh.set_datadir(temp_dir)\n",
    "\n",
    "# Device parameters\n",
    "# RESET_TIME = 1e-3\n",
    "# INTE_TIME = 20e-6\n",
    "# ACQ_DELAY = 232e-9\n",
    "# FREQ_01 = 3.085e9\n",
    "# READOUT_AMP = 0.037\n",
    "# READOUT_FREQ = 4.912585086016809e9\n",
    "# PI_PULSE_AMP = 0.49035467279281136\n",
    "# PI_PULSE_DURA = 200e-9\n",
    "# LO_FREQ_QUBIT = FREQ_01 + 150e6\n",
    "# LO_FREQ_READOUT = 5.2e9\n",
    "\n",
    "single_qubit_device = QuantumDevice.from_json_file(\"/Users/ratiswu/Documents/GitHub/Quela_Qblox/qblox_drive_AS/Configs/QPUdr1.json\")\n",
    "single_qubit_device.hardware_config.load_from_json_file(\"/Users/ratiswu/Documents/GitHub/Quela_Qblox/qblox_drive_AS/Configs/QPUdr1_hcfg.json\")\n",
    "print(single_qubit_device.elements())\n"
   ]
  },
  {
   "cell_type": "markdown",
   "id": "d47eb089",
   "metadata": {},
   "source": [
    "Next, we connect to a dummy {{ Cluster }}. If you are connecting to an actual cluster, you would provide the\n",
    " `identifier` argument (the IP address, device name or serial number) instead\n",
    " of the `dummy_cfg` argument."
   ]
  },
  {
   "cell_type": "code",
   "execution_count": 3,
   "id": "a53aaa46",
   "metadata": {
    "tags": [
     "hide-cell"
    ]
   },
   "outputs": [],
   "source": [
    "cluster = Cluster(\n",
    "    list(single_qubit_device.hardware_config()[\"hardware_description\"].keys())[0],\n",
    "    identifier = f\"qum.phys.sinica.edu.tw\", port=5011\n",
    ")\n",
    "\n",
    "ic_cluster = ClusterComponent(cluster)\n",
    "\n",
    "instrument_coordinator.add_component(ic_cluster)\n",
    "\n",
    "single_qubit_device.instr_instrument_coordinator(instrument_coordinator.name)"
   ]
  },
  {
   "cell_type": "markdown",
   "id": "da88b534",
   "metadata": {},
   "source": [
    "Finally, we define the hardware configuration:"
   ]
  },
  {
   "cell_type": "code",
   "execution_count": 4,
   "id": "37fd8373",
   "metadata": {},
   "outputs": [],
   "source": [
    "from quantify_scheduler.operations.gate_library import X, Reset, Measure\n",
    "from quantify_scheduler.operations.pulse_library import IdlePulse\n",
    "from quantify_scheduler.enums import BinMode\n",
    "from quantify_scheduler.schedules.schedule import Schedule\n",
    "from numpy import ndarray, array, asarray\n",
    "\n",
    "# original T1 schedule\n",
    "def t1_sched(\n",
    "    qubits: list, # list of qubit names\n",
    "    times,#: Union[np.ndarray, float],\n",
    "    repetitions: int = 1,\n",
    ") -> Schedule:\n",
    "    \"\"\"\n",
    "    Generate a schedule for performing simultaneous T1/T2 measurements on n qubits.\n",
    "    \"\"\"\n",
    "\n",
    "    # ensure times and measurements are iterable.\n",
    "    times = asarray(times)\n",
    "    times = times.reshape(times.shape or (1,))\n",
    "\n",
    "    schedule = Schedule(\"Simultaneous T1\", repetitions)\n",
    "    \n",
    "    for i, tau in enumerate(times):\n",
    "        T1_drives = []\n",
    "        for n, qubit in enumerate(qubits):\n",
    "            schedule.add(Reset(qubit), label=f\"Reset {i}_{n}\", ref_pt=\"start\")\n",
    "            if n==0: # if it's the first excitation\n",
    "                # drive |0> to |1>\n",
    "                T1_drive0 = schedule.add(X(qubit), label=f\"T1 Pi {i}_{n}\")\n",
    "                T1_drives.append(T1_drive0)\n",
    "            else:\n",
    "                # simultaneously drive all qubits to |1>\n",
    "                T1_drive = schedule.add(X(qubit), ref_op=T1_drive0, ref_pt=\"start\", label=f\"T1 Pi {i}_{n}\")\n",
    "                T1_drives.append(T1_drive)\n",
    "            # measure after some delay, tau\n",
    "            schedule.add(\n",
    "                Measure(qubit, acq_index=i, acq_channel=n),\n",
    "                ref_op=T1_drives[n],\n",
    "                rel_time=tau,\n",
    "                label=f\"Measurement T1 {i}_{n}\",\n",
    "            )\n",
    "\n",
    "    return schedule\n",
    "\n"
   ]
  },
  {
   "cell_type": "markdown",
   "id": "7339afea",
   "metadata": {},
   "source": [
    "#### Running the T1 schedule using MeasurementControl\n",
    "\n",
    "The dataset returned by {{ MeasurementControl }} will in this case have four rows of data, which are: \n",
    "- `y0`: contains the data establishing whether a qubit was reset or not\n",
    "- `y1`: contains the actual (thresholded) measurement\n",
    "- `y2` and `y3`: filled with NaNs (currently {{ MeasurementControl }} expects {{ ScheduleGettable }} to return IQ values)\n",
    "\n",
    "Below we run {{ MeasurementControl }} again as before"
   ]
  },
  {
   "cell_type": "code",
   "execution_count": 5,
   "id": "0d96c092",
   "metadata": {},
   "outputs": [
    {
     "name": "stdout",
     "output_type": "stream",
     "text": [
      "Starting batched measurement...\n",
      "Iterative settable(s) [outer loop(s)]:\n",
      "\t --- (None) --- \n",
      "Batched settable(s):\n",
      "\t sample \n",
      "Batch size limit: 100\n",
      "\n"
     ]
    },
    {
     "data": {
      "application/vnd.jupyter.widget-view+json": {
       "model_id": "aa55f1c03c90404a8de54c9085639a30",
       "version_major": 2,
       "version_minor": 0
      },
      "text/plain": [
       "Completed:   0%|           [ elapsed time: 00:00 | time left: ? ] it"
      ]
     },
     "metadata": {},
     "output_type": "display_data"
    }
   ],
   "source": [
    "from qcodes.parameters import ManualParameter\n",
    "from quantify_scheduler.gettables import ScheduleGettable\n",
    "from numpy import array, linspace\n",
    "\n",
    "single_qubit_device.cfg_sched_repetitions(1024)  # run and average 1024 times\n",
    "\n",
    "# Configure the settable\n",
    "time = ManualParameter(\"sample\", label=\"Sample time\", unit=\"s\")\n",
    "time.batched = True\n",
    "time_axis = (linspace(start=4e-9, stop=1e-3, num=100)*1e9).astype(int)/1e9\n",
    "meas_qs = [\"q1\"]\n",
    "# if times = {\"q1\":time_axis} or {\"q3\":time_axis} will work normally\n",
    "\n",
    "# Configure the gettable\n",
    "gettable = ScheduleGettable(\n",
    "    quantum_device=single_qubit_device,\n",
    "    schedule_function=t1_sched,\n",
    "    schedule_kwargs={\"qubits\": meas_qs,\"times\":time_axis},\n",
    "    batched=True,\n",
    "    num_channels=1,\n",
    ")\n",
    "\n",
    "# Configure MeasurementControl\n",
    "measurement_control.settables(time)\n",
    "measurement_control.setpoints(time_axis)\n",
    "measurement_control.gettables(gettable)\n",
    "\n",
    "dataset = measurement_control.run(\"t1\")"
   ]
  },
  {
   "cell_type": "code",
   "execution_count": 6,
   "id": "6f28142d",
   "metadata": {},
   "outputs": [
    {
     "data": {
      "image/png": "[encoded data removed]",
      "text/plain": [
       "<Figure size 640x480 with 1 Axes>"
      ]
     },
     "metadata": {},
     "output_type": "display_data"
    }
   ],
   "source": [
    "import matplotlib.pyplot as plt\n",
    "\n",
    "plt.plot(dataset.x0, (dataset.y0.data**2+dataset.y1.data**2)**0.5)\n",
    "plt.xlabel(\"time [s]\")\n",
    "plt.ylabel('Magnitude')\n",
    "plt.title('T1 Relaxation Experiment')\n",
    "plt.show()"
   ]
  }
 ],
 "metadata": {
  "file_format": "mystnb",
  "kernelspec": {
   "display_name": "qblox_10_test",
   "language": "python",
   "name": "python3"
  },
  "language_info": {
   "codemirror_mode": {
    "name": "ipython",
    "version": 3
   },
   "file_extension": ".py",
   "mimetype": "text/x-python",
   "name": "python",
   "nbconvert_exporter": "python",
   "pygments_lexer": "ipython3",
   "version": "3.10.0"
  },
  "myst": {
   "substitutions": {
    "BasicTransmonElement": "{class}`~quantify_scheduler.device_under_test.transmon_element.BasicTransmonElement`",
    "Cluster": "{class}`~qblox_instruments.Cluster`",
    "ConditionalReset": "{class}`~quantify_scheduler.backends.qblox.operations.gate_library.ConditionalReset`",
    "Measure": "{class}`~quantify_scheduler.operations.gate_library.Measure`",
    "MeasurementControl": "{class}`~quantify_core.measurement.control.MeasurementControl`",
    "QuantumDevice": "{class}`~quantify_scheduler.device_under_test.quantum_device.QuantumDevice`",
    "ReadoutCalibrationAnalysis": "{class}`~quantify_core.analysis.readout_calibration_analysis.ReadoutCalibrationAnalysis`",
    "Reset": "{class}`~quantify_scheduler.operations.gate_library.Reset`",
    "RuntimeError": "{class}`~RuntimeError`",
    "Schedule": "{class}`~quantify_scheduler.schedules.schedule.Schedule`",
    "ScheduleGettable": "{class}`~quantify_scheduler.gettables.ScheduleGettable`",
    "T1Analysis": "{class}`~quantify_core.analysis.single_qubit_timedomain.T1Analysis`",
    "ThresholdedAcquisition": "{class}`~quantify_scheduler.operations.acquisition_library.ThresholdedAcquisition`",
    "readout_calibration_sched": "{class}`~quantify_scheduler.schedules.timedomain_schedules.readout_calibration_sched`",
    "t1_sched": "{class}`~quantify_scheduler.schedules.timedomain_schedules.t1_sched`"
   }
  },
  "source_map": [
   23,
   69,
   82,
   125,
   132,
   149,
   153,
   184,
   194,
   257,
   290,
   300,
   308,
   312,
   321,
   328,
   348,
   389,
   410,
   461,
   474,
   530,
   556,
   565,
   571,
   577
  ]
 },
 "nbformat": 4,
 "nbformat_minor": 5
}
