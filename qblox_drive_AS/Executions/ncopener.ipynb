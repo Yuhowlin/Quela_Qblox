{
 "cells": [
  {
   "cell_type": "code",
   "execution_count": 5,
   "id": "6617113e",
   "metadata": {},
   "outputs": [
    {
     "name": "stdout",
     "output_type": "stream",
     "text": [
      "<xarray.Dataset> Size: 5MB\n",
      "Dimensions:    (index: 1000, pulse_num: 100, mixer: 2)\n",
      "Coordinates:\n",
      "  * index      (index) int32 4kB 0 1 2 3 4 5 6 7 ... 993 994 995 996 997 998 999\n",
      "  * pulse_num  (pulse_num) int32 400B 0 1 2 3 4 5 6 7 ... 93 94 95 96 97 98 99\n",
      "  * mixer      (mixer) object 16B 'I' 'Q'\n",
      "Data variables:\n",
      "    q0_x       (mixer, pulse_num, index) float64 2MB ...\n",
      "    q0_y       (mixer, pulse_num, index) float64 2MB ...\n",
      "    q0_z       (mixer, pulse_num, index) float64 2MB ...\n",
      "Attributes:\n",
      "    end_time:        2025-07-09 09:31:44\n",
      "    execution_time:  H17M31S44\n",
      "    bases:           x,y,z\n",
      "<xarray.DataArray 'q0_x' (mixer: 2, pulse_num: 100, index: 1000)> Size: 2MB\n",
      "array([[[-1.397899e-03, -3.374328e-03, ..., -2.750000e-03, -2.525159e-03],\n",
      "        [-1.818149e-03, -1.579507e-03, ..., -2.557279e-03, -1.588544e-03],\n",
      "        ...,\n",
      "        [-6.966292e-04, -2.923302e-03, ..., -4.138129e-03, -8.424524e-04],\n",
      "        [-3.168295e-03, -2.874939e-03, ..., -2.175379e-03, -3.935271e-03]],\n",
      "\n",
      "       [[ 1.641426e-03, -9.106009e-04, ..., -3.003175e-04, -1.734245e-05],\n",
      "        [ 1.253420e-03,  9.633610e-04, ..., -1.071568e-03, -7.510992e-05],\n",
      "        ...,\n",
      "        [ 1.938202e-04, -1.511114e-03, ..., -7.437714e-05,  8.120420e-04],\n",
      "        [-4.689790e-05, -1.157670e-03, ...,  2.116512e-04, -1.551050e-04]]])\n",
      "Coordinates:\n",
      "  * index      (index) int32 4kB 0 1 2 3 4 5 6 7 ... 993 994 995 996 997 998 999\n",
      "  * pulse_num  (pulse_num) int32 400B 0 1 2 3 4 5 6 7 ... 93 94 95 96 97 98 99\n",
      "  * mixer      (mixer) object 16B 'I' 'Q'\n"
     ]
    }
   ],
   "source": [
    "import xarray as xr\n",
    "\n",
    "# 讀取 nc 檔案\n",
    "ds = xr.open_dataset(r\"C:\\Users\\ASUS\\Documents\\GitHub\\Quela_Qblox\\qblox_drive_AS\\Meas_raw\\20250709\\H17M22S38\\TomographyGateErrorTest_20250709173144.nc\")\n",
    "\n",
    "# 查看資料變數\n",
    "print(ds)\n",
    "\n",
    "# 取出某個變數資料\n",
    "data = ds['q0_x']  \n",
    "\n",
    "# 如果要轉成 numpy array 使用\n",
    "numpy_data = data.values\n",
    "print(data)"
   ]
  }
 ],
 "metadata": {
  "kernelspec": {
   "display_name": "quela_qblox",
   "language": "python",
   "name": "python3"
  },
  "language_info": {
   "codemirror_mode": {
    "name": "ipython",
    "version": 3
   },
   "file_extension": ".py",
   "mimetype": "text/x-python",
   "name": "python",
   "nbconvert_exporter": "python",
   "pygments_lexer": "ipython3",
   "version": "3.10.16"
  }
 },
 "nbformat": 4,
 "nbformat_minor": 5
}
